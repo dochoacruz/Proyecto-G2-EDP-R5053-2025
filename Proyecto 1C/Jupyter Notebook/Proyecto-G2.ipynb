{
 "cells": [
  {
   "cell_type": "markdown",
   "metadata": {},
   "source": [
    "<div style=\"display: flex; align-items: center;\">\n",
    "    <img src=\"IMG/logo-utn-frba-electronica.svg\" alt=\"Logo UTN FRBA\" width=\"250\" height=\"100\" style=\"flex-shrink: 0;\">\n",
    "    <p style=\"font-family: 'American Typewriter', 'Courier New', Courier, 'Lucida Sans Typewriter', 'Lucida Typewriter', monospace; text-align: right; margin-left: auto; line-height: 1.2;\">\n",
    "    <font color='black'><strong>ELECTRÓNICA APLICADA II - R4053-2024</strong><br>Trabajo Práctico Integrador<br>Grupo 3</font>\n",
    "    </p>\n",
    "</div>"
   ]
  },
  {
   "cell_type": "markdown",
   "metadata": {},
   "source": [
    "<p style=\"border: ridge white 2px; text-align: center;font-weight: italic; font-family: 'American Typewriter', 'Courier New', Courier, 'Lucida Sans Typewriter', 'Lucida Typewriter', monospace; font-size:30px; background-color:#2CD546\"><font color='white'>\n",
    "    <strong>TRABAJO PRÁCTICO INTEGRADOR</strong>\n",
    "</p>"
   ]
  },
  {
   "cell_type": "markdown",
   "metadata": {},
   "source": [
    "<div style=\"text-align: left; width: 100%; margin-bottom: 20px;\">\n",
    "  <table style=\"width: 100%; border-collapse: collapse; border: none;\">\n",
    "    <tr>\n",
    "      <td style=\"width: 150px; padding-right: 20px; border: none;\"><strong>Materia:</strong></td>\n",
    "      <td style=\"border: none;\">Electrónica Aplicada II</td>\n",
    "    </tr>\n",
    "    <tr>\n",
    "      <td style=\"width: 150px; padding-right: 20px; border: none;\"><strong>Curso:</strong></td>\n",
    "      <td style=\"border: none;\">R4053-2024</td>\n",
    "    </tr>\n",
    "    <tr>\n",
    "      <td style=\"width: 150px; padding-right: 20px; border: none;\"><strong>Docente:</strong></td>\n",
    "      <td style=\"border: none;\">Ing. Eduardo Marchionni</td>\n",
    "    </tr>\n",
    "    <tr>\n",
    "      <td style=\"width: 150px; padding-right: 20px; border: none;\"><strong>JTP:</strong></td>\n",
    "      <td style=\"border: none;\">Ing. Gustavo Sergio Randazzo</td>\n",
    "    </tr>\n",
    "    <tr>\n",
    "      <td style=\"width: 150px; padding-right: 20px; border: none;\"><strong>Integrantes:</strong></td>\n",
    "      <td style=\"border: none;\">Grupo 3</td>\n",
    "    </tr>\n",
    "  </table>\n",
    "</div>\n",
    "<div style=\"display: flex; flex-direction: column; align-items: center;\">\n",
    "\n",
    "<table style=\"border-collapse: collapse; width: auto;\">\n",
    "  <thead>\n",
    "    <tr>\n",
    "      <th style=\"border: 1px solid black; padding: 8px;\">Apellido</th>\n",
    "      <th style=\"border: 1px solid black; padding: 8px;\">Nombre</th>\n",
    "      <th style=\"border: 1px solid black; padding: 8px;\">Legajo</th>\n",
    "    </tr>\n",
    "  </thead>\n",
    "  <tbody>\n",
    "    <tr>\n",
    "      <td style=\"border: 1px solid black; padding: 8px;\">Castilla</td>\n",
    "      <td style=\"border: 1px solid black; padding: 8px;\">Agustín Antonio</td>\n",
    "      <td style=\"border: 1px solid black; padding: 8px;\">1680006</td>\n",
    "    </tr>\n",
    "    <tr>\n",
    "      <td style=\"border: 1px solid black; padding: 8px;\">Ochoa Cruz</td>\n",
    "      <td style=\"border: 1px solid black; padding: 8px;\">David</td>\n",
    "      <td style=\"border: 1px solid black; padding: 8px;\">1638518</td>\n",
    "    </tr>\n",
    "    <tr>\n",
    "      <td style=\"border: 1px solid black; padding: 8px;\">Ranucci</td>\n",
    "      <td style=\"border: 1px solid black; padding: 8px;\">Mariano</td>\n",
    "      <td style=\"border: 1px solid black; padding: 8px;\">1635773</td>\n",
    "    </tr>\n",
    "  </tbody>\n",
    "</table>\n",
    "\n",
    "</div>"
   ]
  },
  {
   "cell_type": "markdown",
   "metadata": {},
   "source": [
    "<div id=\"tema1\" style=\"text-align: center; border: 2px solid white; padding: 2px; background-color: #2CD546; font-family: 'American Typewriter', 'Courier New', Courier, 'Lucida Sans Typewriter', 'Lucida Typewriter', monospace; font-size: 20px; color: #FFFFFF; font-weight: bold;\"><font color='white'>\n",
    "    ABSTRACT\n",
    "</div>"
   ]
  },
  {
   "cell_type": "markdown",
   "metadata": {},
   "source": [
    "<p style=\"text-align: justify; font-weight: italic; font-size:15px;\">\n",
    "Este proyecto describe el diseño e implementación de un voltímetro True RMS basado en el circuito integrado AD736. El dispositivo está diseñado para medir con precisión voltajes en dos escalas diferentes: 10mV a 100mV y de 100mV a 1V, y opera en un rango de frecuencia de audio de 100 a 1000 Hz. Destacado por su bajo costo, tamaño compacto y facilidad de manipulación, el voltímetro es una solución eficiente para aplicaciones que requieren mediciones precisas y confiables en un rango de tension y frecuencia especificadas. El circuito integrado AD736 asegura una alta precisión y linealidad en la medición de voltajes de corriente alterna, lo que lo hace ideal para diversas aplicaciones. \n",
    "</P>"
   ]
  },
  {
   "cell_type": "markdown",
   "metadata": {},
   "source": [
    "<!DOCTYPE html>\n",
    "<html lang=\"es\">\n",
    "<head>\n",
    "    <meta charset=\"UTF-8\">\n",
    "    <meta name=\"viewport\" content=\"width=device-width, initial-scale=1.0\">\n",
    "    <style>\n",
    "        ol {\n",
    "            list-style-type: upper-roman; /* Cambia la numeración a números romanos en mayúscula */\n",
    "            padding-left: 20px;\n",
    "        }\n",
    "        ol li {\n",
    "            position: relative;\n",
    "            padding-left: 2em;\n",
    "            margin-bottom: 0.5em;\n",
    "        }\n",
    "    </style>\n",
    "</head>\n",
    "<body>\n",
    "\n",
    "<div id=\"tema1\" style=\"text-align: center; border: 2px solid white; padding: 2px; background-color: #2CD546; font-family: 'American Typewriter', 'Courier New', Courier, 'Lucida Sans Typewriter', 'Lucida Typewriter', monospace; font-size: 20px; color: #FFFFFF; font-weight: bold;\">\n",
    "    ÍNDICE\n",
    "</div>\n",
    "\n",
    "<ol style=\"text-align: left;\">\n",
    "    <li><a href=\"#tema1\">Consignas</a></li>\n",
    "    <li><a href=\"#tema2\">Introducción</a></li>\n",
    "    <li><a href=\"#tema3\">Objetivo</a></li>\n",
    "    <li><a href=\"#tema4\">Metodología</a></li>\n",
    "    <li><a href=\"#tema5\">Resultados</a></li>\n",
    "</ol>\n",
    "\n",
    "</body>\n",
    "</html>\n"
   ]
  },
  {
   "cell_type": "markdown",
   "metadata": {},
   "source": [
    "<div style=\"text-align: center; border: 2px solid white; padding: 2px; background-color: #2CD546; font-family: 'American Typewriter', 'Courier New', Courier, 'Lucida Sans Typewriter', 'Lucida Typewriter', monospace; font-size: 20px; color: #FFFFFF; font-weight: bold;\"><font color='white'>\n",
    "    I.\tCONSIGNAS\n",
    "</div>"
   ]
  },
  {
   "cell_type": "markdown",
   "metadata": {},
   "source": [
    "**CONSIGNAS GENERALES A CUMPLIR POR TODOS LOS GRUPOS DE LABORATORIO**"
   ]
  },
  {
   "cell_type": "markdown",
   "metadata": {},
   "source": [
    "<div style=\"display: flex; flex-direction: column; align-items: center;\">\n",
    "\n",
    "<table style=\"border-collapse: collapse; width: auto;\">\n",
    "  <thead>\n",
    "    <tr>\n",
    "      <th style=\"border: 1px solid black; padding: 8px;\">Descirpción</th>\n",
    "      <th style=\"border: 1px solid black; padding: 8px;\">Exigencia</th>\n",
    "    </tr>\n",
    "  </thead>\n",
    "  <tbody>\n",
    "    <tr>\n",
    "      <td style=\"border: 1px solid black; padding: 8px;\">THD</td>\n",
    "      <td style=\"border: 1px solid black; padding: 8px;\">≤ 1%</td>\n",
    "    </tr>\n",
    "    <tr>\n",
    "      <td style=\"border: 1px solid black; padding: 8px;\">Frecuencia de Corte</td>\n",
    "      <td style=\"border: 1px solid black; padding: 8px;\">f<sub>Cif</sub> ≤ 20 Hz, f<sub>Csf</sub> ≥ 20 kHz</td>\n",
    "    </tr>\n",
    "    <tr>\n",
    "      <td style=\"border: 1px solid black; padding: 8px;\">Resistencia de Entrada</td>\n",
    "      <td style=\"border: 1px solid black; padding: 8px;\">≥ 80 KΩ</td>\n",
    "    </tr>\n",
    "  </tbody>\n",
    "</table>\n",
    "\n",
    "</div>"
   ]
  },
  {
   "cell_type": "markdown",
   "metadata": {},
   "source": [
    "<p style=\"text-align: justify; font-weight: italic; font-size:15px;\">\n",
    "Cada grupo de trabajo deberá armar y probar el amplificador de audio según se le solicite en la consigna respectiva y simular tanto el equipo que arme como el \"recíproco\" que le toque, en lo que respecta a su etapa de salida. Por ejemplo: si el amplificador para armar tiene una etapa de salida bipolar, el informe debe contemplar la simulación tanto del que armó, como el de una etapa de salida con MOS de enriquecimiento. \n",
    "<br><br>\n",
    "Además, en dicho informe, debe haber una tabla comparativa de los datos obtenidos, tanto medidos, como simulados.El objetivo, es obtener algunos datos para observar semejanzas y  diferencias en los resultados previstos y otros datos de interés.\n",
    "</p>"
   ]
  },
  {
   "cell_type": "markdown",
   "metadata": {},
   "source": [
    "**CONSIGNAS A CUMPLIR POR CADA GRUPO EN PARTICULAR**"
   ]
  },
  {
   "cell_type": "markdown",
   "metadata": {},
   "source": [
    "<!DOCTYPE html>\n",
    "<html lang=\"es\">\n",
    "<head>\n",
    "    <meta charset=\"UTF-8\">\n",
    "    <meta name=\"viewport\" content=\"width=device-width, initial-scale=1.0\">\n",
    "    <title>Tabla de Datos</title>\n",
    "    <style>\n",
    "        .table-container {\n",
    "            text-align: center; /* Centra la tabla horizontalmente */\n",
    "        }\n",
    "        table {\n",
    "            margin: 20px auto; /* Centra la tabla dentro del contenedor */\n",
    "            border-collapse: collapse;\n",
    "            width: 50%;\n",
    "        }\n",
    "        th, td {\n",
    "            border: 1px solid black;\n",
    "            padding: 8px;\n",
    "            text-align: center;\n",
    "        }\n",
    "    </style>\n",
    "</head>\n",
    "<body>\n",
    "\n",
    "<div class=\"table-container\">\n",
    "    <table>\n",
    "        <tr>\n",
    "            <th>P<sub>o</sub></th>\n",
    "            <th>S<sub>e</sub></th>\n",
    "            <th>T<sub>amb</sub></th>\n",
    "            <th>R<sub>L</sub></th>\n",
    "        </tr>\n",
    "        <tr>\n",
    "            <td>20W</td>\n",
    "            <td>400mV</td>\n",
    "            <td>45°C</td>\n",
    "            <td>8Ω</td>\n",
    "        </tr>\n",
    "    </table>\n",
    "</div>\n",
    "\n",
    "</body>\n",
    "</html>"
   ]
  },
  {
   "cell_type": "markdown",
   "metadata": {},
   "source": [
    "<p style=\"text-align: justify; font-weight: italic; font-size:15px;\">\n",
    "Con entrada <i>Diferencial</i> y <i>Etapa de Salida Bipolar.</i>\n",
    "<br><br>\n",
    "Informe del <i>TP INTEGRADOR</i> con simulaciones del cirucuito con salida <i>BIPOLAR</i> y Con salida <i>MOS</i> como se aclara en párrafos precedentes.\n",
    "<br><br>\n",
    "<strong>Aclaración:</strong> Al hablar de entrada <i>Normal</i>, se refiere a un trasistor de entrada bipolar, lo mismo que al decir, <i>Entrada Diferencial</i>, sea bipolar también.\n",
    "</p>"
   ]
  },
  {
   "cell_type": "markdown",
   "metadata": {},
   "source": [
    "<div id=\"tema1\" style=\"text-align: center; border: 2px solid white; padding: 2px; background-color: #2CD546; font-family: 'American Typewriter', 'Courier New', Courier, 'Lucida Sans Typewriter', 'Lucida Typewriter', monospace; font-size: 20px; color: #FFFFFF; font-weight: bold;\"><font color='white'>\n",
    "    I.\tConsideraciones Generales\n",
    "</div>"
   ]
  },
  {
   "cell_type": "markdown",
   "metadata": {},
   "source": [
    "<!DOCTYPE html>\n",
    "<html lang=\"es\">\n",
    "<head>\n",
    "  <meta charset=\"UTF-8\">\n",
    "  <meta name=\"viewport\" content=\"width=device-width, initial-scale=1.0\">\n",
    "  <title>Lista numerada con estilo</title>\n",
    "  <style>\n",
    "    ol {\n",
    "      counter-reset: item;\n",
    "      list-style-type: none;\n",
    "      padding-left: 0;\n",
    "    }\n",
    "    ol li {\n",
    "      position: relative;\n",
    "      padding-left: 2em;\n",
    "      margin-bottom: 0.5em;\n",
    "    }\n",
    "    ol li::before {\n",
    "      content: counter(item) \".\";\n",
    "      counter-increment: item;\n",
    "      position: absolute;\n",
    "      left: 0;\n",
    "      font-weight: bold;\n",
    "      color: gray;\n",
    "      margin-right: 0.5em;\n",
    "    }\n",
    "  </style>\n",
    "</head>\n",
    "<body>\n",
    "  <p>Para el caso del proyecto o diseño de un amplificador de potencia de audio se deben tener en cuenta los siguientes puntos:</p>\n",
    "  <ol>\n",
    "    <li>Potencia Eficaz de salida sobre la carga terminal <i>P<sub>o</sub></i></li>\n",
    "    <li>Carga nominal, parlante o combinación de los mismos <i>R<sub>L</sub></i></li>\n",
    "    <li>Ancho de banda, específicamente <i>f<sub>Cif</sub></i>  y  <i>f<sub>Csf</sub></i></li>\n",
    "    <li>Resistencia de entrada del amplificador</li>\n",
    "    <li>Sensibilidad</li>\n",
    "    <li>Factor de Damping</li>\n",
    "    <li>Porcentaje máximo de distorsión armónica admisible</li>\n",
    "    <li>Tipo de arquitectura circular a utilizar</li>\n",
    "    </ol>\n",
    "</body>\n",
    "</html>\n"
   ]
  },
  {
   "cell_type": "markdown",
   "metadata": {},
   "source": [
    "<p style=\"text-align: justify; font-weight: italic; font-size:15px;\">\n",
    "Cada grupo de trabajo deberá armar y probar el amplificador de audio según se le solicite en la consigna respectiva y simular tanto el equipo que arme como el “recíproco” que le toque, en lo que respecta a su etapa de salida.  \n",
    "Por ejemplo: si el amplificador para armar tiene una etapa de salida bipolar, el informe debe contemplar la simulación tanto del que armó, como el de una etapa de salida con MOS de enriquecimiento. Además, en dicho informe, debe haber una tabla comparativa de los datos obtenidos, tanto medidos, como simulados.   \n",
    "El objetivo, es obtener algunos datos para observar semejanzas y diferencias en los resultados previstos y otros datos de interés.\n",
    "</p>"
   ]
  },
  {
   "cell_type": "markdown",
   "metadata": {},
   "source": [
    "<div id=\"tema2\" style=\"text-align: center; border: 2px solid white; padding: 2px; background-color: #2CD546; font-family: 'American Typewriter', 'Courier New', Courier, 'Lucida Sans Typewriter', 'Lucida Typewriter', monospace; font-size: 20px; color: #2CD546; font-weight: bold;\"><font color='white'>\n",
    "    II.\tINTRODUCCIÓN\n",
    "</div>"
   ]
  },
  {
   "cell_type": "markdown",
   "metadata": {},
   "source": [
    "<p>\n",
    "Cada grupo de trabajo deberá armar y probar el amplificador de audio según se le solicite en la consigna respectiva y simular tanto el equipo que arme como el “recíproco” que le toque, en lo que respecta a su etapa de salida.  \n",
    "Por ejemplo: si el amplificador para armar tiene una etapa de salida bipolar, el informe debe contemplar la simulación tanto del que armó, como el de una etapa de salida con MOS de enriquecimiento. Además, en dicho informe, debe haber una tabla comparativa de los datos obtenidos, tanto medidos, como simulados.   \n",
    "El objetivo, es obtener algunos datos para observar semejanzas y diferencias en los resultados previstos y otros datos de interés.\n",
    "</p>"
   ]
  },
  {
   "cell_type": "markdown",
   "metadata": {},
   "source": [
    "<p style=\"text-align: justify; font-weight: italic; font-size:15px;\">\n",
    "Cada grupo de trabajo deberá armar y probar el amplificador de audio según se le solicite en la consigna respectiva y simular tanto el equipo que arme como el “recíproco” que le toque, en lo que respecta a su etapa de salida.  \n",
    "Por ejemplo: si el amplificador para armar tiene una etapa de salida bipolar, el informe debe contemplar la simulación tanto del que armó, como el de una etapa de salida con MOS de enriquecimiento. Además, en dicho informe, debe haber una tabla comparativa de los datos obtenidos, tanto medidos, como simulados.   \n",
    "El objetivo, es obtener algunos datos para observar semejanzas y diferencias en los resultados previstos y otros datos de interés.\n",
    "</p>"
   ]
  },
  {
   "cell_type": "markdown",
   "metadata": {},
   "source": [
    "<p>\n",
    "Cada grupo de trabajo deberá armar y probar el amplificador de audio según se le solicite en la consigna respectiva y simular tanto el equipo que arme como el “recíproco” que le toque, en lo que respecta a su etapa de salida.  \n",
    "Por ejemplo: si el amplificador para armar tiene una etapa de salida bipolar, el informe debe contemplar la simulación tanto del que armó, como el de una etapa de salida con MOS de enriquecimiento. Además, en dicho informe, debe haber una tabla comparativa de los datos obtenidos, tanto medidos, como simulados.   \n",
    "El objetivo, es obtener algunos datos para observar semejanzas y diferencias en los resultados previstos y otros datos de interés.\n",
    "</p>"
   ]
  },
  {
   "cell_type": "markdown",
   "metadata": {},
   "source": [
    "<p>\n",
    "Cada grupo de trabajo deberá armar y probar el amplificador de audio según se le solicite en la consigna respectiva y simular tanto el equipo que arme como el “recíproco” que le toque, en lo que respecta a su etapa de salida.  \n",
    "Por ejemplo: si el amplificador para armar tiene una etapa de salida bipolar, el informe debe contemplar la simulación tanto del que armó, como el de una etapa de salida con MOS de enriquecimiento. Además, en dicho informe, debe haber una tabla comparativa de los datos obtenidos, tanto medidos, como simulados.   \n",
    "El objetivo, es obtener algunos datos para observar semejanzas y diferencias en los resultados previstos y otros datos de interés.\n",
    "\n",
    "Cada grupo de trabajo deberá armar y probar el amplificador de audio según se le solicite en la consigna respectiva y simular tanto el equipo que arme como el “recíproco” que le toque, en lo que respecta a su etapa de salida.  \n",
    "Por ejemplo: si el amplificador para armar tiene una etapa de salida bipolar, el informe debe contemplar la simulación tanto del que armó, como el de una etapa de salida con MOS de enriquecimiento. Además, en dicho informe, debe haber una tabla comparativa de los datos obtenidos, tanto medidos, como simulados.   \n",
    "El objetivo, es obtener algunos datos para observar semejanzas y diferencias en los resultados previstos y otros datos de interés.\n",
    "</p>"
   ]
  },
  {
   "cell_type": "markdown",
   "metadata": {},
   "source": [
    "<div id=\"tema3\" style=\"text-align: center; border: 2px solid white; padding: 2px; background-color: #2CD546; font-family: 'American Typewriter', 'Courier New', Courier, 'Lucida Sans Typewriter', 'Lucida Typewriter', monospace; font-size: 20px; color: #FFFFFF; font-weight: bold;\"><font color='white'>\n",
    "    III.\tOBJETIVO\n",
    "</div>"
   ]
  },
  {
   "cell_type": "markdown",
   "metadata": {},
   "source": [
    "<p>\n",
    "Cada grupo de trabajo deberá armar y probar el amplificador de audio según se le solicite en la consigna respectiva y simular tanto el equipo que arme como el “recíproco” que le toque, en lo que respecta a su etapa de salida.  \n",
    "Por ejemplo: si el amplificador para armar tiene una etapa de salida bipolar, el informe debe contemplar la simulación tanto del que armó, como el de una etapa de salida con MOS de enriquecimiento. Además, en dicho informe, debe haber una tabla comparativa de los datos obtenidos, tanto medidos, como simulados.   \n",
    "El objetivo, es obtener algunos datos para observar semejanzas y diferencias en los resultados previstos y otros datos de interés.\n",
    "\n",
    "Cada grupo de trabajo deberá armar y probar el amplificador de audio según se le solicite en la consigna respectiva y simular tanto el equipo que arme como el “recíproco” que le toque, en lo que respecta a su etapa de salida.  \n",
    "Por ejemplo: si el amplificador para armar tiene una etapa de salida bipolar, el informe debe contemplar la simulación tanto del que armó, como el de una etapa de salida con MOS de enriquecimiento. Además, en dicho informe, debe haber una tabla comparativa de los datos obtenidos, tanto medidos, como simulados.   \n",
    "El objetivo, es obtener algunos datos para observar semejanzas y diferencias en los resultados previstos y otros datos de interés.\n",
    "</p>"
   ]
  },
  {
   "cell_type": "markdown",
   "metadata": {},
   "source": [
    "<p>\n",
    "Cada grupo de trabajo deberá armar y probar el amplificador de audio según se le solicite en la consigna respectiva y simular tanto el equipo que arme como el “recíproco” que le toque, en lo que respecta a su etapa de salida.  \n",
    "Por ejemplo: si el amplificador para armar tiene una etapa de salida bipolar, el informe debe contemplar la simulación tanto del que armó, como el de una etapa de salida con MOS de enriquecimiento. Además, en dicho informe, debe haber una tabla comparativa de los datos obtenidos, tanto medidos, como simulados.   \n",
    "El objetivo, es obtener algunos datos para observar semejanzas y diferencias en los resultados previstos y otros datos de interés.\n",
    "\n",
    "Cada grupo de trabajo deberá armar y probar el amplificador de audio según se le solicite en la consigna respectiva y simular tanto el equipo que arme como el “recíproco” que le toque, en lo que respecta a su etapa de salida.  \n",
    "Por ejemplo: si el amplificador para armar tiene una etapa de salida bipolar, el informe debe contemplar la simulación tanto del que armó, como el de una etapa de salida con MOS de enriquecimiento. Además, en dicho informe, debe haber una tabla comparativa de los datos obtenidos, tanto medidos, como simulados.   \n",
    "El objetivo, es obtener algunos datos para observar semejanzas y diferencias en los resultados previstos y otros datos de interés.\n",
    "</p>"
   ]
  },
  {
   "cell_type": "markdown",
   "metadata": {},
   "source": [
    "<div id=\"tema4\" style=\"text-align: center; border: 2px solid white; padding: 2px; background-color: #2CD546; font-family: 'American Typewriter', 'Courier New', Courier, 'Lucida Sans Typewriter', 'Lucida Typewriter', monospace; font-size: 20px; color: #FFFFFF; font-weight: bold;\"><font color='white'>\n",
    "    Comienzo del Proyecto\n",
    "</div>"
   ]
  },
  {
   "cell_type": "markdown",
   "metadata": {},
   "source": [
    "<p style=\"text-align: justify; font-weight: italic; font-size:15px;\">\n",
    "  Cálculo de: $ V_{o_{MÁX}} $\n",
    "</p>\n",
    "\n"
   ]
  },
  {
   "cell_type": "markdown",
   "metadata": {},
   "source": [
    "<p>\n",
    "\n",
    "</p>"
   ]
  },
  {
   "cell_type": "markdown",
   "metadata": {},
   "source": [
    "<p>\n",
    "Cada grupo de trabajo deberá armar y probar el amplificador de audio según se le solicite en la consigna respectiva y simular tanto el equipo que arme como el “recíproco” que le toque, en lo que respecta a su etapa de salida.  \n",
    "Por ejemplo: si el amplificador para armar tiene una etapa de salida bipolar, el informe debe contemplar la simulación tanto del que armó, como el de una etapa de salida con MOS de enriquecimiento. Además, en dicho informe, debe haber una tabla comparativa de los datos obtenidos, tanto medidos, como simulados.   \n",
    "El objetivo, es obtener algunos datos para observar semejanzas y diferencias en los resultados previstos y otros datos de interés.\n",
    "\n",
    "Cada grupo de trabajo deberá armar y probar el amplificador de audio según se le solicite en la consigna respectiva y simular tanto el equipo que arme como el “recíproco” que le toque, en lo que respecta a su etapa de salida.  \n",
    "Por ejemplo: si el amplificador para armar tiene una etapa de salida bipolar, el informe debe contemplar la simulación tanto del que armó, como el de una etapa de salida con MOS de enriquecimiento. Además, en dicho informe, debe haber una tabla comparativa de los datos obtenidos, tanto medidos, como simulados.   \n",
    "El objetivo, es obtener algunos datos para observar semejanzas y diferencias en los resultados previstos y otros datos de interés.\n",
    "</p>"
   ]
  },
  {
   "cell_type": "markdown",
   "metadata": {},
   "source": [
    "<div id=\"tema5\" style=\"text-align: center; border: 2px solid white; padding: 2px; background-color: #2CD546; font-family: 'American Typewriter', 'Courier New', Courier, 'Lucida Sans Typewriter', 'Lucida Typewriter', monospace; font-size: 20px; color: #FFFFFF; font-weight: bold;\"><font color='white'>\n",
    "    V.\tRESULTADOS\n",
    "</div>"
   ]
  },
  {
   "cell_type": "markdown",
   "metadata": {},
   "source": [
    "<p>\n",
    "Cada grupo de trabajo deberá armar y probar el amplificador de audio según se le solicite en la consigna respectiva y simular tanto el equipo que arme como el “recíproco” que le toque, en lo que respecta a su etapa de salida.  \n",
    "Por ejemplo: si el amplificador para armar tiene una etapa de salida bipolar, el informe debe contemplar la simulación tanto del que armó, como el de una etapa de salida con MOS de enriquecimiento. Además, en dicho informe, debe haber una tabla comparativa de los datos obtenidos, tanto medidos, como simulados.   \n",
    "El objetivo, es obtener algunos datos para observar semejanzas y diferencias en los resultados previstos y otros datos de interés.\n",
    "\n",
    "Cada grupo de trabajo deberá armar y probar el amplificador de audio según se le solicite en la consigna respectiva y simular tanto el equipo que arme como el “recíproco” que le toque, en lo que respecta a su etapa de salida.  \n",
    "Por ejemplo: si el amplificador para armar tiene una etapa de salida bipolar, el informe debe contemplar la simulación tanto del que armó, como el de una etapa de salida con MOS de enriquecimiento. Además, en dicho informe, debe haber una tabla comparativa de los datos obtenidos, tanto medidos, como simulados.   \n",
    "El objetivo, es obtener algunos datos para observar semejanzas y diferencias en los resultados previstos y otros datos de interés.\n",
    "</p>"
   ]
  },
  {
   "cell_type": "markdown",
   "metadata": {},
   "source": [
    "<!DOCTYPE html>\n",
    "<html lang=\"es\">\n",
    "<head>\n",
    "    <meta charset=\"UTF-8\">\n",
    "    <meta name=\"viewport\" content=\"width=device-width, initial-scale=1.0\">\n",
    "    <script src=\"https://cdnjs.cloudflare.com/ajax/libs/mathjax/2.7.9/MathJax.js?config=TeX-MML-AM_CHTML\" async></script>\n",
    "    <style>\n",
    "        table {\n",
    "            border-collapse: collapse;\n",
    "            width: 60%;\n",
    "            margin: 20px auto;\n",
    "            text-align: left; /* Alinea el texto dentro de la tabla a la izquierda */\n",
    "        }\n",
    "        th, td {\n",
    "            border: 1px solid black;\n",
    "            padding: 8px;\n",
    "        }\n",
    "        th {\n",
    "            background-color: #f2f2f2;\n",
    "        }\n",
    "        div {\n",
    "            text-align: center; /* Centra la tabla en la página */\n",
    "        }\n",
    "    </style>\n",
    "</head>\n",
    "<body>\n",
    "    <div>\n",
    "        <table>\n",
    "            <thead>\n",
    "                <tr>\n",
    "                    <th><strong>Exigencia</strong></th>\n",
    "                    <th><strong>Descripción</strong></th>\n",
    "                </tr>\n",
    "            </thead>\n",
    "            <tbody>\n",
    "                <tr>\n",
    "                    <td><strong>THD</strong></td>\n",
    "                    <td>≤ 1%</td>\n",
    "                </tr>\n",
    "                <tr>\n",
    "                    <td><strong>Frecuencia de Corte</strong></td>\n",
    "                    <td>\n",
    "                        <p>\n",
    "                           f<sub>Cif</sub> ≤ 20 Hz, f<sub>Csf</sub> ≥ 20 kHz\n",
    "                        </p>\n",
    "                    </td>\n",
    "                </tr>\n",
    "                <tr>\n",
    "                    <td><strong>Resistencia de Entrada</strong></td>\n",
    "                    <td>≥ 80 KΩ</td>\n",
    "                </tr>\n",
    "            </tbody>\n",
    "        </table>\n",
    "    </div>\n",
    "</body>\n",
    "</html>"
   ]
  },
  {
   "cell_type": "markdown",
   "metadata": {},
   "source": [
    "<!DOCTYPE html>\n",
    "<html lang=\"es\">\n",
    "<head>\n",
    "    <meta charset=\"UTF-8\">\n",
    "    <meta name=\"viewport\" content=\"width=device-width, initial-scale=1.0\">\n",
    "    <script src=\"https://cdnjs.cloudflare.com/ajax/libs/mathjax/2.7.9/MathJax.js?config=TeX-MML-AM_CHTML\" async></script>\n",
    "    <style>\n",
    "        table {\n",
    "            border-collapse: collapse;\n",
    "            width: auto; /* Cambiado a auto para ajustar el tamaño de la tabla al contenido */\n",
    "            margin: 20px auto;\n",
    "            text-align: left; /* Alinea el texto dentro de la tabla a la izquierda */\n",
    "        }\n",
    "        th, td {\n",
    "            border: 1px solid black;\n",
    "            padding: 8px;\n",
    "        }\n",
    "        th {\n",
    "            background-color: #f2f2f2;\n",
    "        }\n",
    "    </style>\n",
    "</head>\n",
    "<body>\n",
    "    <div style=\"display: flex; flex-direction: column; align-items: left;\">\n",
    "        <table>\n",
    "            <thead>\n",
    "                <tr>\n",
    "                    <th><strong>Exigencia</strong></th>\n",
    "                    <th><strong>Descripción</strong></th>\n",
    "                </tr>\n",
    "            </thead>\n",
    "            <tbody>\n",
    "                <tr>\n",
    "                    <td><strong>THD</strong></td>\n",
    "                    <td>≤ 1%</td>\n",
    "                </tr>\n",
    "                <tr>\n",
    "                    <td><strong>Frecuencia de Corte</strong></td>\n",
    "                    <td>\n",
    "                        <span>\n",
    "                           f<sub>Cif</sub> ≤ 20 Hz, f<sub>Csf</sub> ≥ 20 kHz\n",
    "                        </span>\n",
    "                    </td>\n",
    "                </tr>\n",
    "                <tr>\n",
    "                    <td><strong>Resistencia de Entrada</strong></td>\n",
    "                    <td>≥ 80 KΩ</td>\n",
    "                </tr>\n",
    "            </tbody>\n",
    "        </table>\n",
    "    </div>\n",
    "</body>\n",
    "</html>\n"
   ]
  },
  {
   "cell_type": "code",
   "execution_count": 1,
   "metadata": {},
   "outputs": [
    {
     "ename": "ModuleNotFoundError",
     "evalue": "No module named 'numpy'",
     "output_type": "error",
     "traceback": [
      "\u001b[1;31m---------------------------------------------------------------------------\u001b[0m",
      "\u001b[1;31mModuleNotFoundError\u001b[0m                       Traceback (most recent call last)",
      "Cell \u001b[1;32mIn[1], line 1\u001b[0m\n\u001b[1;32m----> 1\u001b[0m \u001b[38;5;28;01mimport\u001b[39;00m \u001b[38;5;21;01mnumpy\u001b[39;00m \u001b[38;5;28;01mas\u001b[39;00m \u001b[38;5;21;01mnp\u001b[39;00m\n\u001b[0;32m      2\u001b[0m \u001b[38;5;28;01mimport\u001b[39;00m \u001b[38;5;21;01mmatplotlib\u001b[39;00m\u001b[38;5;21;01m.\u001b[39;00m\u001b[38;5;21;01mpyplot\u001b[39;00m \u001b[38;5;28;01mas\u001b[39;00m \u001b[38;5;21;01mplt\u001b[39;00m\n\u001b[0;32m      3\u001b[0m \u001b[38;5;28;01mfrom\u001b[39;00m \u001b[38;5;21;01mscipy\u001b[39;00m \u001b[38;5;28;01mimport\u001b[39;00m signal\n",
      "\u001b[1;31mModuleNotFoundError\u001b[0m: No module named 'numpy'"
     ]
    }
   ],
   "source": [
    "import numpy as np\n",
    "import matplotlib.pyplot as plt\n",
    "from scipy import signal\n",
    "\n",
    "# Polos fijos de la planta\n",
    "poles = [0, -1, -3]\n",
    "\n",
    "# Rango de valores para el cero de la planta\n",
    "zeros_range = np.linspace(0, 100, 500)  # Puedes ajustar el número de puntos según sea necesario\n",
    "\n",
    "# Arreglo para almacenar los resultados del lugar de las raíces\n",
    "roots = []\n",
    "\n",
    "# Calcular el lugar de las raíces para cada valor del cero\n",
    "for zero in zeros_range:\n",
    "    plant_tf = signal.TransferFunction([1], np.poly1d(poles + [zero]).coeffs)\n",
    "    roots.append(plant_tf.poles)\n",
    "\n",
    "# Preparar el gráfico\n",
    "plt.figure(figsize=(10, 6))\n",
    "plt.title('Lugar de las Raíces del Sistema Realimentado')\n",
    "plt.xlabel('Parte Real')\n",
    "plt.ylabel('Parte Imaginaria')\n",
    "\n",
    "# Graficar cada conjunto de polos\n",
    "for root_set in roots:\n",
    "    plt.plot(np.real(root_set), np.imag(root_set), 'b.')\n",
    "\n",
    "# Añadir los polos fijos a la gráfica\n",
    "plt.plot(np.real(poles), np.imag(poles), 'rx', label='Polos fijos')\n",
    "\n",
    "plt.grid(True)\n",
    "plt.axhline(y=0, color='k', linestyle='--')\n",
    "plt.axvline(x=0, color='k', linestyle='--')\n",
    "plt.legend()\n",
    "plt.show()"
   ]
  }
 ],
 "metadata": {
  "kernelspec": {
   "display_name": "Python 3",
   "language": "python",
   "name": "python3"
  },
  "language_info": {
   "codemirror_mode": {
    "name": "ipython",
    "version": 3
   },
   "file_extension": ".py",
   "mimetype": "text/x-python",
   "name": "python",
   "nbconvert_exporter": "python",
   "pygments_lexer": "ipython3",
   "version": "3.12.7"
  }
 },
 "nbformat": 4,
 "nbformat_minor": 2
}
