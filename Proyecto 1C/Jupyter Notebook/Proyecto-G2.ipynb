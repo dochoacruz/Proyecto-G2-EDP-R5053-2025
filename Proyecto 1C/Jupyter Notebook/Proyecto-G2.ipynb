{
 "cells": [
  {
   "cell_type": "markdown",
   "metadata": {},
   "source": [
    "<link href=\"https://fonts.googleapis.com/css2?family=Roboto+Condensed:wght@700&family=Roboto+Mono:wght@500&family=Montserrat:wght@700&display=swap\" rel=\"stylesheet\">\n",
    "\n",
    "<!-- ENCABEZADO COMPACTO -->\n",
    "<div style=\"display: flex; align-items: center; gap: 2.5mm; \n",
    "            border-bottom: 0.75pt solid #000;\n",
    "            padding-bottom: 1.5mm;\n",
    "            width: 100%;\n",
    "            max-width: 17cm;\n",
    "            margin: 0 auto 3mm;\n",
    "            box-sizing: border-box;\">\n",
    "    <img \n",
    "        src=\"IMG/logo-utn-frba-electronica.svg\" \n",
    "        alt=\"Logo UTN FRBA\" \n",
    "        style=\"width: 40mm; height: auto; flex-shrink: 0;\"\n",
    "    >\n",
    "    <div style=\"font-family: 'Roboto Condensed', sans-serif; \n",
    "                text-align: right; \n",
    "                margin-left: auto;\n",
    "                line-height: 1.1;\">  <!-- Reducido de 1.2 a 1.1 -->\n",
    "        <strong style=\"color: #000; \n",
    "                     font-size: 12.5pt; /* Aumentado de 12pt */\n",
    "                     font-weight: 700; \n",
    "                     letter-spacing: 0.02em;\">  <!-- Reducido spacing -->\n",
    "            ELECTRÓNICA DE POTENCIA - R4052\n",
    "        </strong>\n",
    "        <br>\n",
    "        <span style=\"color: #111; \n",
    "                   font-size: 10pt; /* Aumentado de 9.5pt */\n",
    "                   font-family: 'Roboto Mono', monospace;\n",
    "                   font-weight: 500;\n",
    "                   margin-top: -1pt;\">  <!-- Compensación de línea -->\n",
    "            Proyecto 1°C - 2025\n",
    "        </span>\n",
    "        <br>\n",
    "        <span style=\"color: #111; \n",
    "                   font-size: 10pt;\n",
    "                   font-family: 'Roboto Mono', monospace;\n",
    "                   margin-top: -1pt;\">\n",
    "            Grupo 2\n",
    "        </span>\n",
    "    </div>\n",
    "</div>\n",
    "\n",
    "<!-- TÍTULO PRINCIPAL COMPACTO -->\n",
    "<div style=\"font-family: 'Roboto', sans-serif; \n",
    "            width: 100%; \n",
    "            max-width: 20cm; \n",
    "            margin: 0 auto; \n",
    "            padding: 5mm 2cm;\n",
    "            box-sizing: border-box;\">\n",
    "  \n",
    "  <h1 style=\"color: #8FBC8F; \n",
    "             font-family: 'Montserrat', sans-serif;\n",
    "             font-weight: 700;\n",
    "             font-size: 15pt;  /* Reducido de 14pt */\n",
    "             text-align: center;\n",
    "             margin: 0 0 2pt 0;  /* Espaciado inferior reducido */\n",
    "             text-transform: uppercase;\n",
    "             line-height: 1.1;\">  <!-- Reducido de 1.3 -->\n",
    "    UNIVERSIDAD TECNOLÓGICA NACIONAL<br>FACULTAD REGIONAL BUENOS AIRES\n",
    "  </h1>\n",
    "  \n",
    "  <p style=\"color: #000;\n",
    "            font-size: 12pt;  /* Reducido de 10.5pt */\n",
    "            text-align: center;\n",
    "            margin: 3pt 0 8pt 0;  /* Espaciado reducido */\n",
    "            font-weight: 500;\">\n",
    "    Departamento de Electrónica\n",
    "  </p>\n",
    "\n",
    "  <div style=\"text-align: center; margin: 10pt auto 0; width: 100%; max-width: 17cm;\">\n",
    "    <div style=\"display: inline-block; text-align: left;\">\n",
    "        <h2 style=\"color: #000; \n",
    "                  font-family: 'Montserrat', sans-serif;\n",
    "                  font-weight: 700;\n",
    "                  font-size: 14pt;\n",
    "                  margin: 8pt auto 4pt;\n",
    "                  padding-bottom: 2pt;\n",
    "                  display: block;\n",
    "                  line-height: 1.2;\n",
    "                  text-align: center;\">\n",
    "            Fuente de Conmutación Buck\n",
    "        </h2>\n",
    "    </div>\n",
    "</div>\n",
    "</div>\n",
    "<link href=\"https://fonts.googleapis.com/css2?family=Segoe+UI:wght@400;600&display=swap\" rel=\"stylesheet\">\n",
    "\n",
    "<div style=\"font-family: 'Segoe UI', Arial, sans-serif; width: 100%; max-width: 17cm; margin: 0 auto; padding: 1.5cm 2cm; box-sizing: border-box;\">\n",
    "\n",
    "<!-- Bloque de información básica -->\n",
    "<div style=\"text-align: left; width: 100%; margin-bottom: 8mm;\">\n",
    "  <table style=\"width: 100%; border-collapse: collapse; border: none; font-size: 10.5pt;\">\n",
    "    <tr>\n",
    "      <td style=\"width: 40mm; padding-right: 5mm; border: none; vertical-align: top;\"><strong>Materia:</strong></td>\n",
    "      <td style=\"border: none;\">Electrónica de Potencia</td>\n",
    "    </tr>\n",
    "    <tr>\n",
    "      <td style=\"width: 40mm; padding-right: 5mm; border: none; vertical-align: top;\"><strong>Curso:</strong></td>\n",
    "      <td style=\"border: none;\">R5052-2025</td>\n",
    "    </tr>\n",
    "    <tr>\n",
    "      <td style=\"width: 40mm; padding-right: 5mm; border: none; vertical-align: top;\"><strong>Docente:</strong></td>\n",
    "      <td style=\"border: none;\">Ing. Oscar Pugliese</td>\n",
    "    </tr>\n",
    "    <tr>\n",
    "      <td style=\"width: 40mm; padding-right: 5mm; border: none; vertical-align: top;\"><strong>Ayudante:</strong></td>\n",
    "      <td style=\"border: none;\">Diego Pirotta</td>\n",
    "    </tr>\n",
    "    <tr>\n",
    "      <td style=\"width: 40mm; padding-right: 5mm; border: none; vertical-align: top;\"><strong>Integrantes:</strong></td>\n",
    "      <td style=\"border: none;\">Grupo 2</td>\n",
    "    </tr>\n",
    "  </table>\n",
    "</div>\n",
    "\n",
    "<!-- Tabla de integrantes -->\n",
    "<div style=\"margin-bottom: 15mm;\">\n",
    "  <table style=\"width: 100%; border-collapse: collapse; font-size: 10pt;\">\n",
    "    <thead>\n",
    "      <tr style=\"background-color: #8FBC8F; color: white;\">\n",
    "        <th style=\"padding: 3mm; text-align: left; border-bottom: 1pt solid #8FBC8F; font-weight: 600;\">APELLIDO</th>\n",
    "        <th style=\"padding: 3mm; text-align: left; border-bottom: 1pt solid #8FBC8F; font-weight: 600;\">NOMBRE</th>\n",
    "        <th style=\"padding: 3mm; text-align: left; border-bottom: 1pt solid #8FBC8F; font-weight: 600;\">LEGAJO</th>\n",
    "      </tr>\n",
    "    </thead>\n",
    "    <tbody>\n",
    "      <tr style=\"border-bottom: 0.5pt solid #ECF0F1;\">\n",
    "        <td style=\"padding: 3mm;\">Calero Costa</td>\n",
    "        <td style=\"padding: 3mm;\">Diego</td>\n",
    "        <td style=\"padding: 3mm;\">1526066</td>\n",
    "      </tr>\n",
    "      <tr style=\"border-bottom: 0.5pt solid #ECF0F1;\">\n",
    "        <td style=\"padding: 3mm;\">Ochoa Cruz</td>\n",
    "        <td style=\"padding: 3mm;\">David</td>\n",
    "        <td style=\"padding: 3mm;\">1638518</td>\n",
    "      </tr>\n",
    "    </tbody>\n",
    "  </table>\n",
    "</div>\n",
    "\n",
    "<!-- Pie de carátula -->\n",
    "<div style=\"text-align: center; color: #8FBC8F; font-size: 9pt; margin: 15mm auto 0; border-top: 0.5pt solid #8FBC8F; padding-top: 5mm; width: 100%; max-width: 17cm;\">\n",
    "  <p style=\"margin: 0 auto; width: fit-content;\">Universidad Tecnológica Nacional - Facultad Regional Buenos Aires</p>\n",
    "  <p style=\"margin: 2px auto 0; width: fit-content;\">Departamento de Ingeniería Electrónica - 2025</p>\n",
    "</div>"
   ]
  },
  {
   "cell_type": "markdown",
   "metadata": {},
   "source": [
    "<link href=\"https://fonts.googleapis.com/css2?family=Roboto+Condensed:wght@700&family=Roboto+Mono:wght@500&family=Montserrat:wght@700&display=swap\" rel=\"stylesheet\">\n",
    "\n",
    "<!-- TÍTULO DE ÍNDICE -->\n",
    "<div id=\"indice\" style=\"text-align: center;\n",
    "            background-color: #8FBC8F;\n",
    "            padding: 8px 0;\n",
    "            margin: 0 auto 15px;\n",
    "            font-family: 'Roboto Condensed', sans-serif;\n",
    "            font-size: 18px;\n",
    "            color: white;\n",
    "            font-weight: 700;\n",
    "            text-transform: uppercase;\n",
    "            letter-spacing: 1px;\n",
    "            border-radius: 4px;\n",
    "            width: 100%;\n",
    "            max-width: 20cm;\n",
    "            box-shadow: 0 2px 4px rgba(0,0,0,0.1);\">\n",
    "    ÍNDICE\n",
    "</div>\n",
    "\n",
    "<!-- LISTA CON ESPACIADO CORREGIDO -->\n",
    "<ol style=\"list-style-type: none;\n",
    "          font-family: 'Roboto Mono', monospace;\n",
    "          font-size: 16px;\n",
    "          color: #8FBC8F;\n",
    "          padding-left: 0;\n",
    "          margin: 0 auto;\n",
    "          width: 90%;\n",
    "          max-width: 18cm;\n",
    "          line-height: 1.6;\n",
    "          counter-reset: section;\">    \n",
    "    <li style=\"margin-bottom: 10px; padding-left: 30px; position: relative;\">\n",
    "        <a href=\"#introduccion\" style=\"color: #8FBC8F; text-decoration: none; font-weight: 500; display: block; padding-left: 15px;\">\n",
    "            <span style=\"position: absolute; left: 0; color: #8FBC8F; width: 25px;\">I.</span> \n",
    "            Introducción\n",
    "        </a>\n",
    "    </li>\n",
    "    <li style=\"margin-bottom: 10px; padding-left: 30px; position: relative;\">\n",
    "        <a href=\"#conceptos\" style=\"color: #8FBC8F; text-decoration: none; font-weight: 500; display: block; padding-left: 15px;\">\n",
    "            <span style=\"position: absolute; left: 0; color: #8FBC8F; width: 25px;\">II.</span> \n",
    "            Conceptos fundamentales\n",
    "        </a>\n",
    "    </li>\n",
    "    <li style=\"margin-bottom: 10px; padding-left: 30px; position: relative;\">\n",
    "        <a href=\"#diseno\" style=\"color: #8FBC8F; text-decoration: none; font-weight: 500; display: block; padding-left: 15px;\">\n",
    "            <span style=\"position: absolute; left: 0; color: #8FBC8F; width: 25px;\">III.</span> \n",
    "            Diseño Teórico\n",
    "        </a>\n",
    "    </li>\n",
    "    <li style=\"margin-bottom: 10px; padding-left: 30px; position: relative;\">\n",
    "        <a href=\"#simulacion\" style=\"color: #8FBC8F; text-decoration: none; font-weight: 500; display: block; padding-left: 15px;\">\n",
    "            <span style=\"position: absolute; left: 0; color: #8FBC8F; width: 25px;\">IV.</span> \n",
    "            Simulación\n",
    "        </a>\n",
    "    </li>\n",
    "    <li style=\"margin-bottom: 10px; padding-left: 30px; position: relative;\">\n",
    "        <a href=\"#implementacion\" style=\"color: #8FBC8F; text-decoration: none; font-weight: 500; display: block; padding-left: 15px;\">\n",
    "            <span style=\"position: absolute; left: 0; color: #8FBC8F; width: 25px;\">V.</span> \n",
    "            Implementación práctica\n",
    "        </a>\n",
    "    </li>\n",
    "    <li style=\"margin-bottom: 10px; padding-left: 30px; position: relative;\">\n",
    "        <a href=\"#conclusion\" style=\"color: #8FBC8F; text-decoration: none; font-weight: 500; display: block; padding-left: 15px;\">\n",
    "            <span style=\"position: absolute; left: 0; color: #8FBC8F; width: 25px;\">VI.</span> \n",
    "            Conclusión\n",
    "        </a>\n",
    "    </li>\n",
    "    <li style=\"margin-bottom: 0; padding-left: 30px; position: relative;\">\n",
    "        <a href=\"#referencias\" style=\"color: #8FBC8F; text-decoration: none; font-weight: 500; display: block; padding-left: 15px;\">\n",
    "            <span style=\"position: absolute; left: 0; color: #8FBC8F; width: 25px;\">VII.</span> \n",
    "            Referencias\n",
    "        </a>\n",
    "    </li>\n",
    "</ol>"
   ]
  },
  {
   "cell_type": "markdown",
   "metadata": {},
   "source": [
    "<link href=\"https://fonts.googleapis.com/css2?family=Roboto+Condensed:wght@700&family=Roboto+Mono:wght@500&family=Montserrat:wght@700&display=swap\" rel=\"stylesheet\">\n",
    "\n",
    "<!-- TÍTULO DE ÍNDICE -->\n",
    "<div style=\"text-align: center;\n",
    "            background-color: #8FBC8F;\n",
    "            padding: 8px 0;\n",
    "            margin: 0 auto 15px;\n",
    "            font-family: 'Roboto Condensed', sans-serif;\n",
    "            font-size: 18px;\n",
    "            color: white;\n",
    "            font-weight: 700;\n",
    "            text-transform: uppercase;\n",
    "            letter-spacing: 1px;\n",
    "            border-radius: 4px;\n",
    "            width: 100%;\n",
    "            max-width: 20cm;\n",
    "            box-shadow: 0 2px 4px rgba(0,0,0,0.1);\">\n",
    "    ABSTRACT\n",
    "</div>"
   ]
  },
  {
   "cell_type": "markdown",
   "metadata": {},
   "source": [
    "<div id=\"introduccion\" style=\"margin: 40px auto; max-width: 20cm;\">\n",
    "    <h2 style=\"color: #8FBC8F; border-bottom: 2px solid #8FBC8F; padding-bottom: 5px;\">\n",
    "        I. INTRODUCCIÓN\n",
    "    </h2>\n",
    "    <p style=\"text-align: justify; line-height: 1.6; margin-bottom: 15px;\">\n",
    "        Las fuentes conmutadas Buck representan un componente fundamental en los sistemas de conversión de energía moderna. Este tipo de convertidores DC-DC step-down permiten obtener tensiones de salida inferiores a la tensión de entrada con alta eficiencia energética, superando el 90% en diseños optimizados. Su principio de operación basado en conmutación de transistores MOSFET minimiza las pérdidas por disipación de potencia, a diferencia de los reguladores lineales tradicionales.\n",
    "    </p>\n",
    "    <p style=\"text-align: justify; line-height: 1.6; margin-bottom: 15px;\">\n",
    "        En este proyecto se analizará el diseño, simulación e implementación de un convertidor Buck para aplicaciones de electrónica de potencia, considerando parámetros clave como ripple de tensión, estabilidad en régimen transitorio y eficiencia energética. El desarrollo incluye etapas de modelado teórico, verificación mediante herramientas de simulación (PSpice/LTspice) y validación experimental con mediciones de parámetros reales.\n",
    "    </p>\n",
    "    <p style=\"text-align: justify; line-height: 1.6;\">\n",
    "        La implementación práctica utilizará componentes comerciales seleccionados por su relación costo-rendimiento, demostrando la viabilidad de estas topologías en aplicaciones industriales y de consumo donde se requiera regulación precisa de tensión con mínimas pérdidas energéticas.\n",
    "    </p>\n",
    "</div>"
   ]
  },
  {
   "cell_type": "markdown",
   "metadata": {},
   "source": [
    "<link href=\"https://fonts.googleapis.com/css2?family=Roboto+Condensed:wght@700&family=Roboto+Mono:wght@500&display=swap\" rel=\"stylesheet\">\n",
    "<div id=\"seccion-conceptos-fundamentales\" style=\"margin: 40px auto; max-width: 20cm;\">\n",
    "    <h2 style=\"color: #8FBC8F; border-bottom: 2px solid #8FBC8F; padding-bottom: 5px;\">\n",
    "        II. CONCEPTOS FUNDAMENTALES\n",
    "    </h2>\n",
    "</div>"
   ]
  },
  {
   "cell_type": "markdown",
   "metadata": {},
   "source": [
    "<link href=\"https://fonts.googleapis.com/css2?family=Roboto+Condensed:wght@700&family=Roboto+Mono:wght@500&display=swap\" rel=\"stylesheet\">\n",
    "\n",
    "<div id=\"diseno-teorico\" style=\"margin: 40px auto; max-width: 20cm; font-family: 'Roboto Mono', monospace; line-height: 1.6;\">\n",
    "    <h2 style=\"color: #8FBC8F; border-bottom: 2px solid #8FBC8F; padding-bottom: 5px; font-family: 'Roboto Condensed';\">\n",
    "        III. DISEÑO TEÓRICO\n",
    "    </h2>    \n",
    "    <!-- 1. Especificaciones -->\n",
    "    <h3 style=\"color: #8FBC8F; margin-top: 20px; font-family: 'Roboto Condensed'; font-size: 18px;\">\n",
    "        3.1 Especificaciones de Diseño\n",
    "    </h3>\n",
    "    <div style=\"overflow-x: auto;\">\n",
    "        <table style=\"width: 100%; border-collapse: collapse; margin: 10px 0;\">\n",
    "            <thead>\n",
    "                <tr style=\"background-color: #8FBC8F; color: white;\">\n",
    "                    <th style=\"padding: 8px; border: 1px solid #2C3E50;\">Parámetro</th>\n",
    "                    <th style=\"padding: 8px; border: 1px solid #2C3E50;\">Símbolo</th>\n",
    "                    <th style=\"padding: 8px; border: 1px solid #2C3E50;\">Valor</th>\n",
    "                    <th style=\"padding: 8px; border: 1px solid #2C3E50;\">Unidad</th>\n",
    "                </tr>\n",
    "            </thead>\n",
    "            <tbody>\n",
    "                <tr><td>Tensión de entrada</td><td>V<sub>in</sub></td><td>12</td><td>V</td></tr>\n",
    "                <tr><td>Tensión de salida</td><td>V<sub>out</sub></td><td>5</td><td>V</td></tr>\n",
    "                <tr><td>Corriente de salida</td><td>I<sub>out</sub></td><td>0.2-1.0</td><td>A</td></tr>\n",
    "                <tr><td>Frecuencia de conmutación</td><td>f<sub>s</sub></td><td>40</td><td>kHz</td></tr>\n",
    "                <tr><td>Rizado de voltaje</td><td>ΔV<sub>out</sub></td><td>≤25</td><td>mV</td></tr>\n",
    "            </tbody>\n",
    "        </table>\n",
    "    </div> \n",
    "</div>\n",
    "\n"
   ]
  },
  {
   "cell_type": "markdown",
   "metadata": {},
   "source": [
    "<link href=\"https://fonts.googleapis.com/css2?family=Roboto+Condensed:wght@700&family=Roboto+Mono:wght@500&display=swap\" rel=\"stylesheet\">\n",
    "\n",
    "<div id=\"diseno-teorico\" style=\"margin: 40px auto; max-width: 20cm; font-family: 'Roboto Mono', monospace; line-height: 1.6;\">\n",
    "        <h3 style=\"color: #8FBC8F; margin-top: 20px; font-family: 'Roboto Condensed'; font-size: 18px;\">\n",
    "                3.2 Ecuaciones Fundamentales de Diseño\n",
    "        </h3>\n",
    "</div>\n",
    "<div align=\"center\">\n",
    "\n",
    "| **Descripción**           | **Step Down**                                                                 |\n",
    "|-----------------------|-------------------------------------------------------------------------------------------|\n",
    "| Razón de tiempos      | $$\\frac{t_{on}}{t_{off}} = \\frac{V_{out} + V_F}{V_{in} - V_{sat} - V_{out}}$$            |\n",
    "| Periodo               | $$T = \\frac{1}{f}$$                                                                       |\n",
    "| Tiempo de Apagado    | $$t_{off} = \\frac{T}{\\left( \\frac{t_{on}}{t_{off}} + 1 \\right)}$$                         |\n",
    "| Tiempo de encendido     | $$t_{on} = T - t_{off}$$                                                                  |\n",
    "| Capacidad de timing     | $$C_T = 4 \\times 10^{-5} \\cdot t_{on}$$                                                  |\n",
    "| Corriente pico        | $$I_{pk(switch)} = 2 \\cdot I_{out(max)}$$                                                |\n",
    "| Resistencia de Sencing | $$R_{SC} = \\frac{0.3}{I_{pk(switch)}}$$                                                  |\n",
    "| Inductancia mínima | $$L_{(min)} = \\left( \\frac{V_{in} - V_{sat} - V_{out}}{I_{pk(switch)}} \\right) t_{on}$$ |\n",
    "| Capacidad de Salida     | $$C_O = \\frac{I_{pk(switch)}(t_{on} + t_{off})}{8V_{ripple(pp)}}$$                      |\n",
    "| Tensión de Salida   | $$V_{out} = 1.25 \\left( 1 + \\frac{R2}{R1} \\right)$$                                      |\n",
    "\n",
    "</div>"
   ]
  },
  {
   "cell_type": "markdown",
   "metadata": {},
   "source": [
    "<link href=\"https://fonts.googleapis.com/css2?family=Roboto+Condensed:wght@700&family=Roboto+Mono:wght@500&display=swap\" rel=\"stylesheet\">\n",
    "\n",
    "<div id=\"diseno-teorico\" style=\"margin: 40px auto; max-width: 20cm; font-family: 'Roboto Mono', monospace; line-height: 1.6;\">\n",
    "        <h3 style=\"color: #8FBC8F; margin-top: 20px; font-family: 'Roboto Condensed'; font-size: 18px;\">\n",
    "                3.3 Cálculo Teórico\n",
    "        </h3>\n",
    "</div>\n",
    "<h3 style=\"text-align: center;\">Cálculo de los Tiempos de Conmutación</h3>\n",
    "\n",
    "$$\n",
    "\\frac{t_{on}}{t_{off}} = \\frac{V_{out} + V_F}{V_{in} - V_{sat} - V_{out}} =\n",
    "\\frac{5\\,V + 0.5\\,V}{12\\,V - 1\\,V - 5\\,V} = \\frac{5.5}{6} = 0.917\n",
    "$$\n",
    "\n",
    "$$\n",
    "T = \\frac{1}{f} = \\frac{1}{40{,}000\\,Hz} = 25\\,\\mu s\n",
    "$$\n",
    "\n",
    "$$\n",
    "t_{off} = \\frac{T}{\\left( \\frac{t_{on}}{t_{off}} + 1 \\right)} =\n",
    "\\frac{25\\,\\mu s}{0.917 + 1} = \\frac{25}{1.917} = 13.04\\,\\mu s\n",
    "$$\n",
    "\n",
    "$$\n",
    "t_{on} = T - t_{off} = 25\\,\\mu s - 13.04\\,\\mu s = 11.96\\,\\mu s\n",
    "$$\n",
    "\n",
    "<h3 style=\"text-align: center;\">Cálculo del Capacitor de Timing (C<sub>T</sub>)</h3>\n",
    "\n",
    "$$\n",
    "C_T = 4 \\times 10^{-5} \\times t_{on} = 4 \\times 10^{-5} \\times 11.96\\,\\mu s\n",
    "$$\n",
    "\n",
    "$$\n",
    "C_T = 4 \\times 10^{-5} \\times 11.96 \\times 10^{-6}\\,s = 47.84 \\times 10^{-11}\\,F\n",
    "$$\n",
    "\n",
    "$$\n",
    "C_T = 478.4\\,pF \\quad \\text{(Valor calculado exacto)}\n",
    "$$\n",
    "\n",
    "$$\n",
    "C_{Tc} \\approx 470\\,pF \\quad \\text{(Valor comercial estándar más cercano)}\n",
    "$$\n",
    "\n",
    "<h4 style=\"text-align: center;\">Verificación del tiempo de encendido con valor comercial:</h4>\n",
    "\n",
    "$$\n",
    "t_{on\\_real} = \\frac{C_{Tc}}{4 \\times 10^{-5}} = \\frac{470 \\times 10^{-12}}{4 \\times 10^{-5}} = 11.75\\,\\mu s\n",
    "$$\n",
    "\n",
    "$$\n",
    "\\Delta t_{on} = 11.96\\,\\mu s - 11.75\\,\\mu s = 0.21\\,\\mu s \\quad \\text{(Diferencia despreciable)}\n",
    "$$\n",
    "\n",
    "<h3 style=\"text-align: center;\">Cálculo de la Corriente Pico del Switch (I<sub>pk(switch)</sub>)</h3>\n",
    "\n",
    "$$\n",
    "I_{pk(switch)} = 2 \\times I_{out(max)} = 2 \\times 1.0\\,A = 2.0\\,A\n",
    "$$\n",
    "\n",
    "<h3 style=\"text-align: center;\">Cálculo del Resistor de Sensing (R<sub>SC</sub>)</h3>\n",
    "\n",
    "$$\n",
    "R_{SC} = \\frac{0.3}{I_{pk(switch)}} = \\frac{0.3}{2.0\\,A} = 0.15\\,\\Omega\n",
    "$$\n",
    "\n",
    "$$\n",
    "P_{R_{SC}} = I_{pk}^2 \\times R_{SC} = (2.0\\,A)^2 \\times 0.15\\,\\Omega = 0.6\\,W\n",
    "$$\n",
    "\n",
    "<h4 style=\"text-align: center;\">Valor comercial seleccionado: R = 0.15 Ω</h4>\n",
    "\n",
    "<h3 style=\"text-align: center;\">Cálculo de la Inductancia Mínima (L<sub>min</sub>)</h3>\n",
    "\n",
    "$$\n",
    "L_{min} = \\left( \\frac{V_{in} - V_{sat} - V_{out}}{I_{pk(switch)}} \\right) \\times t_{on} = \\left( \\frac{12\\,V - 1\\,V - 5\\,V}{2.0\\,A} \\right) \\times 11.96\\,\\mu s = 35.88\\,\\mu H\n",
    "$$\n",
    "\n",
    "<h4 style=\"text-align: center;\">Valor comercial seleccionado: L = 47 µH</h4>\n",
    "\n",
    "<h3 style=\"text-align: center;\">Cálculo del Capacitor de Salida (C<sub>O</sub>)</h3>\n",
    "\n",
    "$$\n",
    "C_O = \\frac{I_{pk(switch)}(t_{on} + t_{off})}{8V_{ripple(pp)}} = \\frac{2.0\\,A \\times 25\\,\\mu s}{8 \\times 0.025\\,V} = 250\\,\\mu F\n",
    "$$\n",
    "\n",
    "<h4 style=\"text-align: center;\">Valor comercial seleccionado: 220 µF + 33 µF (total 253 µF)</h4>\n",
    "\n",
    "<h3 style=\"text-align: center;\">Cálculo de la Tensión de Salida (V<sub>out</sub>)</h3>\n",
    "\n",
    "$$\n",
    "V_{out} = 1.25\\,V \\times \\left(1 + \\frac{R2}{R1}\\right) = 5\\,V\n",
    "$$\n",
    "\n",
    "<h4 style=\"text-align: center;\">Cálculo de la relación de resistencias:</h4>\n",
    "\n",
    "$$\n",
    "\\frac{R2}{R1} = \\frac{V_{out}}{1.25\\,V} - 1 = \\frac{5\\,V}{1.25\\,V} - 1 = 3\n",
    "$$\n",
    "\n",
    "<h4 style=\"text-align: center;\">Valores comerciales sugeridos:</h4>\n",
    "<p style=\"text-align: center;\">\n",
    "R1 = 1kΩ, R2 = 3kΩ<br>\n",
    "(Valores estándar E24 que cumplen la relación 3:1)\n",
    "</p>"
   ]
  },
  {
   "cell_type": "markdown",
   "metadata": {},
   "source": [
    "<link href=\"https://fonts.googleapis.com/css2?family=Roboto+Condensed:wght@700&family=Roboto+Mono:wght@500&display=swap\" rel=\"stylesheet\">\n",
    "\n",
    "<div id=\"diseno-teorico\" style=\"margin: 40px auto; max-width: 20cm; font-family: 'Roboto Mono', monospace; line-height: 1.6;\">   \n",
    "    <!-- 3.4 Componentes Calculados -->\n",
    "    <h3 style=\"color: #8FBC8F; margin-top: 20px; font-family: 'Roboto Condensed'; font-size: 18px;\">\n",
    "        3.4 Componentes Calculados\n",
    "    </h3>\n",
    "    <div style=\"overflow-x: auto;\">\n",
    "        <table style=\"width: 100%; border-collapse: collapse; margin: 10px 0; font-size: 14px;\">\n",
    "            <thead>\n",
    "                <tr style=\"background-color: #8FBC8F; color: white;\">\n",
    "                    <th style=\"padding: 10px; border: 1px solid #8FBC8F; text-align: left;\">Componente</th>\n",
    "                    <th style=\"padding: 10px; border: 1px solid #8FBC8F; text-align: center;\">Valor Calculado</th>\n",
    "                    <th style=\"padding: 10px; border: 1px solid #8FBC8F; text-align: center;\">Valor Comercial</th>\n",
    "                    <th style=\"padding: 10px; border: 1px solid #8FBC8F; text-align: center;\">Especificaciones</th>\n",
    "                </tr>\n",
    "            </thead>\n",
    "            <tbody>\n",
    "                <tr>\n",
    "                    <td style=\"padding: 8px; border: 1px solid #ddd;\">C<sub>T</sub> (Timing)</td>\n",
    "                    <td style=\"padding: 8px; border: 1px solid #ddd; text-align: center;\">478.4 pF</td>\n",
    "                    <td style=\"padding: 8px; border: 1px solid #ddd; text-align: center;\">470 pF</td>\n",
    "                    <td style=\"padding: 8px; border: 1px solid #ddd; text-align: center;\">Cerámico NPO</td>\n",
    "                </tr>\n",
    "                <tr>\n",
    "                    <td style=\"padding: 8px; border: 1px solid #ddd;\">R<sub>SC</sub> (Current Sense)</td>\n",
    "                    <td style=\"padding: 8px; border: 1px solid #ddd; text-align: center;\">0.15 Ω</td>\n",
    "                    <td style=\"padding: 8px; border: 1px solid #ddd; text-align: center;\">0.15 Ω</td>\n",
    "                    <td style=\"padding: 8px; border: 1px solid #ddd; text-align: center;\">1W, ±1%</td>\n",
    "                </tr>\n",
    "                <tr>\n",
    "                    <td style=\"padding: 8px; border: 1px solid #ddd;\">L (Inductor)</td>\n",
    "                    <td style=\"padding: 8px; border: 1px solid #ddd; text-align: center;\">35.88 µH</td>\n",
    "                    <td style=\"padding: 8px; border: 1px solid #ddd; text-align: center;\">47 µH</td>\n",
    "                    <td style=\"padding: 8px; border: 1px solid #ddd; text-align: center;\">2.4A sat</td>\n",
    "                </tr>\n",
    "                <tr>\n",
    "                    <td style=\"padding: 8px; border: 1px solid #ddd;\">C<sub>O</sub> (Output)</td>\n",
    "                    <td style=\"padding: 8px; border: 1px solid #ddd; text-align: center;\">250 µF</td>\n",
    "                    <td style=\"padding: 8px; border: 1px solid #ddd; text-align: center;\">220+33 µF</td>\n",
    "                    <td style=\"padding: 8px; border: 1px solid #ddd; text-align: center;\">Low ESR</td>\n",
    "                </tr>\n",
    "                <tr>\n",
    "                    <td style=\"padding: 8px; border: 1px solid #ddd;\">R1/R2 (Divisor)</td>\n",
    "                    <td style=\"padding: 8px; border: 1px solid #ddd; text-align: center;\">Ratio 3:1</td>\n",
    "                    <td style=\"padding: 8px; border: 1px solid #ddd; text-align: center;\">1kΩ/3kΩ</td>\n",
    "                    <td style=\"padding: 8px; border: 1px solid #ddd; text-align: center;\">±1%</td>\n",
    "                </tr>\n",
    "            </tbody>\n",
    "        </table>\n",
    "    </div>\n",
    "    <!-- Notas de diseño -->\n",
    "    <div style=\"margin-top: 15px; padding: 12px; border-left: 4px; border-radius: 0 4px 4px 0;\">\n",
    "        <h4 style=\"color: #8FBC8F; margin-top: 0; font-family: 'Roboto Condensed';\">Notas de Diseño:</h4>\n",
    "        <ul style=\"margin-bottom: 0;\">\n",
    "            <li>Frecuencia de conmutación: 40 kHz ±10%</li>\n",
    "            <li>Corriente pico del switch: 2.0A (2.4A con margen)</li>\n",
    "            <li>Rizado máximo de salida: ≤25 mVpp</li>\n",
    "            <li>Eficiencia estimada: 85-90%</li>\n",
    "        </ul>\n",
    "    </div>\n",
    "</div>"
   ]
  },
  {
   "cell_type": "markdown",
   "metadata": {},
   "source": [
    "<link href=\"https://fonts.googleapis.com/css2?family=Roboto+Condensed:wght@700&family=Roboto+Mono:wght@500&display=swap\" rel=\"stylesheet\">\n",
    "\n",
    "<div id=\"diseno-teorico\" style=\"margin: 40px auto; max-width: 20cm; font-family: 'Roboto Mono', monospace; line-height: 1.6;\">\n",
    "        <h3 style=\"color: #8FBC8F; margin-top: 20px; font-family: 'Roboto Condensed'; font-size: 18px;\">\n",
    "                3.5 Verificación de Cálculos\n",
    "        </h3>\n",
    "</div>"
   ]
  },
  {
   "cell_type": "code",
   "execution_count": 69,
   "metadata": {},
   "outputs": [
    {
     "data": {
      "text/latex": [
       "$\\displaystyle \\quad \\quad \\quad  t_{on}/t_{off} = 0.917$"
      ],
      "text/plain": [
       "<IPython.core.display.Math object>"
      ]
     },
     "metadata": {},
     "output_type": "display_data"
    },
    {
     "data": {
      "text/latex": [
       "$\\displaystyle \\quad \\quad \\quad  T = 25 \\, \\mu s$"
      ],
      "text/plain": [
       "<IPython.core.display.Math object>"
      ]
     },
     "metadata": {},
     "output_type": "display_data"
    },
    {
     "data": {
      "text/latex": [
       "$\\displaystyle \\quad \\quad \\quad  t_{off} = 13.04 \\, \\mu s$"
      ],
      "text/plain": [
       "<IPython.core.display.Math object>"
      ]
     },
     "metadata": {},
     "output_type": "display_data"
    },
    {
     "data": {
      "text/latex": [
       "$\\displaystyle \\quad \\quad \\quad  t_{on} = 11.96 \\, \\mu s$"
      ],
      "text/plain": [
       "<IPython.core.display.Math object>"
      ]
     },
     "metadata": {},
     "output_type": "display_data"
    },
    {
     "data": {
      "text/latex": [
       "$\\displaystyle \\quad \\quad \\quad  C_T = 478.3 \\, pF$"
      ],
      "text/plain": [
       "<IPython.core.display.Math object>"
      ]
     },
     "metadata": {},
     "output_type": "display_data"
    },
    {
     "data": {
      "text/latex": [
       "$\\displaystyle \\quad \\quad \\quad  C_{Tc} = 470 \\, pF$"
      ],
      "text/plain": [
       "<IPython.core.display.Math object>"
      ]
     },
     "metadata": {},
     "output_type": "display_data"
    },
    {
     "data": {
      "text/latex": [
       "$\\displaystyle \\quad \\quad \\quad  I_{pk(switch)} = 2.0\\,A$"
      ],
      "text/plain": [
       "<IPython.core.display.Math object>"
      ]
     },
     "metadata": {},
     "output_type": "display_data"
    },
    {
     "data": {
      "text/latex": [
       "$\\displaystyle \\quad \\quad \\quad  R_{SC} = 0.15\\,\\Omega$"
      ],
      "text/plain": [
       "<IPython.core.display.Math object>"
      ]
     },
     "metadata": {},
     "output_type": "display_data"
    },
    {
     "data": {
      "text/latex": [
       "$\\displaystyle \\quad \\quad \\quad  P_{R_{SC}} = 0.6\\,W$"
      ],
      "text/plain": [
       "<IPython.core.display.Math object>"
      ]
     },
     "metadata": {},
     "output_type": "display_data"
    },
    {
     "data": {
      "text/latex": [
       "$\\displaystyle \\quad \\quad \\quad  L_{min} = 35.87\\,\\mu H$"
      ],
      "text/plain": [
       "<IPython.core.display.Math object>"
      ]
     },
     "metadata": {},
     "output_type": "display_data"
    },
    {
     "data": {
      "text/latex": [
       "$\\displaystyle \\quad \\quad \\quad  L = 47\\,\\mu H$"
      ],
      "text/plain": [
       "<IPython.core.display.Math object>"
      ]
     },
     "metadata": {},
     "output_type": "display_data"
    },
    {
     "data": {
      "text/latex": [
       "$\\displaystyle \\quad \\quad \\quad  C_O = 250\\,\\mu F$"
      ],
      "text/plain": [
       "<IPython.core.display.Math object>"
      ]
     },
     "metadata": {},
     "output_type": "display_data"
    },
    {
     "data": {
      "text/latex": [
       "$\\displaystyle \\quad \\quad \\quad  C_{O{c}} = 220\\,\\mu F + 33\\,\\mu F =  253\\,\\mu F$"
      ],
      "text/plain": [
       "<IPython.core.display.Math object>"
      ]
     },
     "metadata": {},
     "output_type": "display_data"
    },
    {
     "data": {
      "text/latex": [
       "$\\displaystyle \\quad \\quad \\quad \\frac{R2}{R1} = \\frac{5.0\\,V}{1.25\\,V} - 1 = 3$"
      ],
      "text/plain": [
       "<IPython.core.display.Math object>"
      ]
     },
     "metadata": {},
     "output_type": "display_data"
    },
    {
     "data": {
      "text/latex": [
       "$\\displaystyle \\quad \\quad \\quad  R1 = 1\\,k\\Omega,\\ R2 = 3\\,k\\Omega$"
      ],
      "text/plain": [
       "<IPython.core.display.Math object>"
      ]
     },
     "metadata": {},
     "output_type": "display_data"
    }
   ],
   "source": [
    "# Especificaciones de diseño para fuente Buck con MC34063A\n",
    "from IPython.display import Math, display\n",
    "import numpy as np\n",
    "# Parámetros del convertidor Buck\n",
    "Vin = 12.0      # Tensión de entrada mínima (V)\n",
    "Vout = 5.0      # Tensión de salida deseada (V)\n",
    "Iout = 1.0      # Corriente de salida máxima (A)\n",
    "f = 40_000      # Frecuencia de conmutación (Hz)\n",
    "ΔVout = 0.025   # Rizado de tensión de salida permitido (Vpp)\n",
    "Vsat = 1.0      # Tensión de saturación del transistor interno (V)\n",
    "Vf = 0.5        # Caída de tensión del diodo Schottky (V)\n",
    "Vref = 1.25     # Tensión de referencia del MC34063A (V)\n",
    "\n",
    "# Cálculo de tiempo de conmutación\n",
    "ton_to_toff = (Vout + Vf) / (Vin - Vsat - Vout) # Cálculo de relación ton/toff\n",
    "T = 1 / f                                       # Período total de conmutación en segundos\n",
    "toff = T / (ton_to_toff + 1)                    # Cálculo de t_off\n",
    "ton = T - toff                                  # Cálculo de t_on \n",
    "\n",
    "# Cálculo de la capacidad de timing\n",
    "CT = 4e-5 * ton  # 4 × 10⁻⁵ × t_on\n",
    "# Selección del valor comercial\n",
    "CT_comercial = 470e-12  # 470 pF (valor estándar más cercano)\n",
    "\n",
    "# Cálculo de la corriente pico de switching\n",
    "Ipk_switch = 2 * Iout       # Cálculo de Ipk(switch)\n",
    "R_SC = 0.3 / Ipk_switch     # Cálculo de R_SC\n",
    "P_RSC = Ipk_switch**2 * R_SC\n",
    "\n",
    "# Calculo de la inductancia mínima\n",
    "L_min = ((Vin - Vsat - Vout)/Ipk_switch) * ton\n",
    "\n",
    "# Calculo de la capacidad de salida\n",
    "C_O = (Ipk_switch * (ton + toff)) / (8 * ΔVout)\n",
    "C_o1 = 220e-6  # Valor comercial de 220 µF\n",
    "C_o2 = 33e-6   # Valor comercial de 33 µF\n",
    "\n",
    "# Cálculo de la relación de resistencia\n",
    "ratio_R = (Vout / Vref) - 1\n",
    "# Valores comerciales sugeridos\n",
    "R1 = 1000  # 1kΩ\n",
    "R2 = 3000   # 3kΩ'\n",
    "\n",
    "# Presentación de resultados\n",
    "display(Math(f\"\\\\quad \\\\quad \\\\quad  t_{{on}}/t_{{off}} = {ton_to_toff:.3f}\"))\n",
    "display(Math(f\"\\\\quad \\\\quad \\\\quad  T = {T * 1e6:.0f} \\\\, \\\\mu s\"))\n",
    "display(Math(f\"\\\\quad \\\\quad \\\\quad  t_{{off}} = {toff * 1e6:.2f} \\\\, \\\\mu s\"))\n",
    "display(Math(f\"\\\\quad \\\\quad \\\\quad  t_{{on}} = {ton * 1e6:.2f} \\\\, \\\\mu s\"))\n",
    "\n",
    "display(Math(f\"\\\\quad \\\\quad \\\\quad  C_T = {CT*1e12:.1f} \\\\, pF\"))\n",
    "display(Math(f\"\\\\quad \\\\quad \\\\quad  C_{{Tc}} = {CT_comercial*1e12:.0f} \\\\, pF\"))\n",
    "\n",
    "display(Math(f\"\\\\quad \\\\quad \\\\quad  I_{{pk(switch)}} = {Ipk_switch}\\\\,A\"))\n",
    "display(Math(f\"\\\\quad \\\\quad \\\\quad  R_{{SC}} = {R_SC:.2f}\\\\,\\\\Omega\"))\n",
    "display(Math(f\"\\\\quad \\\\quad \\\\quad  P_{{R_{{SC}}}} = {P_RSC:.1f}\\\\,W\"))\n",
    "\n",
    "display(Math(f\"\\\\quad \\\\quad \\\\quad  L_{{min}} = {L_min*1e6:.2f}\\\\,\\\\mu H\"))\n",
    "display(Math(f\"\\\\quad \\\\quad \\\\quad  L = 47\\\\,\\\\mu H\"))\n",
    "\n",
    "display(Math(f\"\\\\quad \\\\quad \\\\quad  C_O = {C_O*1e6:.0f}\\\\,\\\\mu F\"))\n",
    "display(Math(f\"\\\\quad \\\\quad \\\\quad  C_{{O{{c}}}} = {C_o1*1e6:.0f}\\\\,\\\\mu F + {C_o2*1e6:.0f}\\\\,\\\\mu F =  253\\\\,\\\\mu F\") )\n",
    "\n",
    "display(Math(f\"\\\\quad \\\\quad \\\\quad \\\\frac{{R2}}{{R1}} = \\\\frac{{{Vout}\\\\,V}}{{1.25\\\\,V}} - 1 = {ratio_R:.0f}\"))\n",
    "display(Math(f\"\\\\quad \\\\quad \\\\quad  R1 = {R1/1000:.0f}\\\\,k\\\\Omega,\\\\ R2 = {R2/1000:.0f}\\\\,k\\\\Omega\"))"
   ]
  },
  {
   "cell_type": "markdown",
   "metadata": {},
   "source": [
    "<link href=\"https://fonts.googleapis.com/css2?family=Roboto+Condensed:wght@700&family=Roboto+Mono:wght@500&display=swap\" rel=\"stylesheet\">\n",
    "\n",
    "<div id=\"diseno-teorico\" style=\"margin: 40px auto; max-width: 20cm; font-family: 'Roboto Mono', monospace; line-height: 1.6;\">\n",
    "    <h2 style=\"color: #8FBC8F; border-bottom: 2px solid #8FBC8F; padding-bottom: 5px; font-family: 'Roboto Condensed';\">\n",
    "        IV. SIMULACIÓN\n",
    "    </h2>    \n",
    "</div>"
   ]
  },
  {
   "cell_type": "markdown",
   "metadata": {},
   "source": [
    "<link href=\"https://fonts.googleapis.com/css2?family=Roboto+Condensed:wght@700&family=Roboto+Mono:wght@500&display=swap\" rel=\"stylesheet\">\n",
    "\n",
    "<div id=\"diseno-teorico\" style=\"margin: 40px auto; max-width: 20cm; font-family: 'Roboto Mono', monospace; line-height: 1.6;\">\n",
    "    <h2 style=\"color: #8FBC8F; border-bottom: 2px solid #8FBC8F; padding-bottom: 5px; font-family: 'Roboto Condensed';\">\n",
    "        V. IMPLEMENTACIÓN PRÁCTICA\n",
    "    </h2>    \n",
    "</div>"
   ]
  },
  {
   "cell_type": "markdown",
   "metadata": {},
   "source": [
    "<div style=\"text-align: center; color: #8FBC8F; font-size: 9pt; margin: 15mm auto 0; border-top: 0.5pt solid #8FBC8F; padding-top: 5mm; width: 100%; max-width: 17cm;\">\n",
    "  <p style=\"margin: 0 auto; width: fit-content;\">Universidad Tecnológica Nacional - Facultad Regional Buenos Aires</p>\n",
    "  <p style=\"margin: 2px auto 0; width: fit-content;\">Departamento de Ingeniería Electrónica - 2025</p>\n",
    "</div>"
   ]
  }
 ],
 "metadata": {
  "kernelspec": {
   "display_name": "Python 3",
   "language": "python",
   "name": "python3"
  },
  "language_info": {
   "codemirror_mode": {
    "name": "ipython",
    "version": 3
   },
   "file_extension": ".py",
   "mimetype": "text/x-python",
   "name": "python",
   "nbconvert_exporter": "python",
   "pygments_lexer": "ipython3",
   "version": "3.12.5"
  }
 },
 "nbformat": 4,
 "nbformat_minor": 2
}
